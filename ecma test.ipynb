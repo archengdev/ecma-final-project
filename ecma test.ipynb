{
 "cells": [
  {
   "cell_type": "code",
   "execution_count": 3,
   "id": "f30c223f",
   "metadata": {},
   "outputs": [
    {
     "name": "stdout",
     "output_type": "stream",
     "text": [
      "Unexpected exception formatting exception. Falling back to standard exception\n"
     ]
    },
    {
     "name": "stderr",
     "output_type": "stream",
     "text": [
      "Traceback (most recent call last):\n",
      "  File \"/workspaces/ecma-final-project/mliv-env/lib/python3.12/site-packages/IPython/core/interactiveshell.py\", line 3579, in run_code\n",
      "  File \"/tmp/ipykernel_53400/1753686372.py\", line 1, in <module>\n",
      "    from mliv.inference import Vanilla2SLS\n",
      "  File \"/workspaces/ecma-final-project/mliv/inference/__init__.py\", line 1, in <module>\n",
      "    from .twosls import Vanilla2SLS, Poly2SLS, NN2SLS\n",
      "  File \"/workspaces/ecma-final-project/mliv/inference/twosls/__init__.py\", line 1, in <module>\n",
      "    from .vanilla2sls_v1 import Vanilla2SLS\n",
      "  File \"/workspaces/ecma-final-project/mliv/inference/twosls/vanilla2sls_v1.py\", line 1, in <module>\n",
      "    from sklearn.linear_model import LinearRegression\n",
      "ModuleNotFoundError: No module named 'sklearn'\n",
      "\n",
      "During handling of the above exception, another exception occurred:\n",
      "\n",
      "Traceback (most recent call last):\n",
      "  File \"/workspaces/ecma-final-project/mliv-env/lib/python3.12/site-packages/pygments/styles/__init__.py\", line 45, in get_style_by_name\n",
      "ModuleNotFoundError: No module named 'pygments.styles.default'\n",
      "\n",
      "During handling of the above exception, another exception occurred:\n",
      "\n",
      "Traceback (most recent call last):\n",
      "  File \"/workspaces/ecma-final-project/mliv-env/lib/python3.12/site-packages/IPython/core/interactiveshell.py\", line 2170, in showtraceback\n",
      "  File \"/workspaces/ecma-final-project/mliv-env/lib/python3.12/site-packages/IPython/core/ultratb.py\", line 1457, in structured_traceback\n",
      "  File \"/workspaces/ecma-final-project/mliv-env/lib/python3.12/site-packages/IPython/core/ultratb.py\", line 1348, in structured_traceback\n",
      "  File \"/workspaces/ecma-final-project/mliv-env/lib/python3.12/site-packages/IPython/core/ultratb.py\", line 1195, in structured_traceback\n",
      "  File \"/workspaces/ecma-final-project/mliv-env/lib/python3.12/site-packages/IPython/core/ultratb.py\", line 1085, in format_exception_as_a_whole\n",
      "  File \"/workspaces/ecma-final-project/mliv-env/lib/python3.12/site-packages/IPython/core/ultratb.py\", line 1136, in get_records\n",
      "  File \"/workspaces/ecma-final-project/mliv-env/lib/python3.12/site-packages/pygments/styles/__init__.py\", line 47, in get_style_by_name\n",
      "pygments.util.ClassNotFound: Could not find style module 'pygments.styles.default', though it should be builtin.\n"
     ]
    }
   ],
   "source": [
    "from mliv.inference import Vanilla2SLS\n",
    "from mliv.utils import CausalDataset"
   ]
  },
  {
   "cell_type": "code",
   "execution_count": null,
   "id": "edf067f4",
   "metadata": {},
   "outputs": [
    {
     "name": "stdout",
     "output_type": "stream",
     "text": [
      "Unexpected exception formatting exception. Falling back to standard exception\n"
     ]
    },
    {
     "name": "stderr",
     "output_type": "stream",
     "text": [
      "Traceback (most recent call last):\n",
      "  File \"/workspaces/ecma-final-project/mliv-env/lib/python3.12/site-packages/IPython/core/interactiveshell.py\", line 3579, in run_code\n",
      "  File \"/tmp/ipykernel_53400/3638270854.py\", line 1, in <module>\n",
      "    import pandas as pd\n",
      "ModuleNotFoundError: No module named 'pandas'\n",
      "\n",
      "During handling of the above exception, another exception occurred:\n",
      "\n",
      "Traceback (most recent call last):\n",
      "  File \"/workspaces/ecma-final-project/mliv-env/lib/python3.12/site-packages/pygments/styles/__init__.py\", line 45, in get_style_by_name\n",
      "ModuleNotFoundError: No module named 'pygments.styles.default'\n",
      "\n",
      "During handling of the above exception, another exception occurred:\n",
      "\n",
      "Traceback (most recent call last):\n",
      "  File \"/workspaces/ecma-final-project/mliv-env/lib/python3.12/site-packages/IPython/core/interactiveshell.py\", line 2170, in showtraceback\n",
      "  File \"/workspaces/ecma-final-project/mliv-env/lib/python3.12/site-packages/IPython/core/ultratb.py\", line 1457, in structured_traceback\n",
      "  File \"/workspaces/ecma-final-project/mliv-env/lib/python3.12/site-packages/IPython/core/ultratb.py\", line 1348, in structured_traceback\n",
      "  File \"/workspaces/ecma-final-project/mliv-env/lib/python3.12/site-packages/IPython/core/ultratb.py\", line 1195, in structured_traceback\n",
      "  File \"/workspaces/ecma-final-project/mliv-env/lib/python3.12/site-packages/IPython/core/ultratb.py\", line 1085, in format_exception_as_a_whole\n",
      "  File \"/workspaces/ecma-final-project/mliv-env/lib/python3.12/site-packages/IPython/core/ultratb.py\", line 1136, in get_records\n",
      "  File \"/workspaces/ecma-final-project/mliv-env/lib/python3.12/site-packages/pygments/styles/__init__.py\", line 47, in get_style_by_name\n",
      "pygments.util.ClassNotFound: Could not find style module 'pygments.styles.default', though it should be builtin.\n"
     ]
    }
   ],
   "source": [
    "import pandas as pd\n",
    "\n",
    "# Read the .dta file\n",
    "df = pd.read_stata(\"angirst.dta\")\n",
    "\n",
    "# Display the first few rows\n",
    "print(df.head())"
   ]
  },
  {
   "cell_type": "code",
   "execution_count": null,
   "id": "6559e92e",
   "metadata": {},
   "outputs": [],
   "source": [
    "from sklearn.model_selection import train_test_split\n",
    "\n",
    "df = pd.read_stata(\"angrist.dta\")\n",
    "\n",
    "# Split data into train (70%) and temp (30%)\n",
    "train_df, temp_df = train_test_split(df, test_size=0.3, random_state=42)\n",
    "\n",
    "# Split temp into validation (50% of temp, i.e., 15% of total) and test (50% of temp)\n",
    "val_df, test_df = train_test_split(temp_df, test_size=0.5, random_state=42)\n",
    "\n",
    "# Save splits to CSV files\n",
    "train_df.to_csv(\"train.csv\", index=False)\n",
    "val_df.to_csv(\"valid.csv\", index=False)\n",
    "test_df.to_csv(\"test.csv\", index=False)"
   ]
  },
  {
   "cell_type": "code",
   "execution_count": null,
   "id": "ae47b60d",
   "metadata": {},
   "outputs": [
    {
     "name": "stdout",
     "output_type": "stream",
     "text": [
      "Run -1-th experiment for Vanilla2SLS. \n",
      "End. --------------------\n"
     ]
    }
   ],
   "source": [
    "data = CausalDataset('./Data/Demand/0.5_1.0_0.0_10000/1/')\n",
    "\n",
    "model = Vanilla2SLS()\n",
    "model.fit(data)\n",
    "ITE = model.predict(data.train)\n",
    "ATE,_ = model.ATE(data.train)"
   ]
  },
  {
   "cell_type": "code",
   "execution_count": null,
   "id": "251ebfd8",
   "metadata": {},
   "outputs": [
    {
     "name": "stdout",
     "output_type": "stream",
     "text": [
      "The path: ./Data/Demand/0.5_1.0_0.0_10000/\n",
      "Generate Demand datasets - 0/10. \n",
      "Generate Demand datasets - 1/10. \n",
      "Generate Demand datasets - 2/10. \n",
      "Generate Demand datasets - 3/10. \n",
      "Generate Demand datasets - 4/10. \n",
      "Generate Demand datasets - 5/10. \n",
      "Generate Demand datasets - 6/10. \n",
      "Generate Demand datasets - 7/10. \n",
      "Generate Demand datasets - 8/10. \n",
      "Generate Demand datasets - 9/10. \n"
     ]
    },
    {
     "data": {
      "text/plain": [
       "{'dataName': 'Demand',\n",
       " 'exps': 10,\n",
       " 'num': 10000,\n",
       " 'rho': 0.5,\n",
       " 'alpha': 1.0,\n",
       " 'beta': 0.0,\n",
       " 'seed': 2022,\n",
       " 'num_val': 10000,\n",
       " 'seed_val': 3033,\n",
       " 'seed_tst': 4044}"
      ]
     },
     "execution_count": 20,
     "metadata": {},
     "output_type": "execute_result"
    }
   ],
   "source": [
    "from mliv.dataset.demand import gen_data\n",
    "from mliv.utils import CausalDataset\n",
    "gen_data()"
   ]
  },
  {
   "cell_type": "code",
   "execution_count": null,
   "id": "950595b3",
   "metadata": {},
   "outputs": [
    {
     "name": "stdout",
     "output_type": "stream",
     "text": [
      "-12.550724338436222\n"
     ]
    }
   ],
   "source": [
    "print(ATE)"
   ]
  }
 ],
 "metadata": {
  "kernelspec": {
   "display_name": "mliv-env",
   "language": "python",
   "name": "python3"
  },
  "language_info": {
   "codemirror_mode": {
    "name": "ipython",
    "version": 3
   },
   "file_extension": ".py",
   "mimetype": "text/x-python",
   "name": "python",
   "nbconvert_exporter": "python",
   "pygments_lexer": "ipython3",
   "version": "3.12.1"
  }
 },
 "nbformat": 4,
 "nbformat_minor": 5
}
