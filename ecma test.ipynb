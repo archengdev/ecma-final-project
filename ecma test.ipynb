{
 "cells": [
  {
   "cell_type": "markdown",
   "id": "99e9bba8",
   "metadata": {},
   "source": [
    "# Question 1."
   ]
  },
  {
   "cell_type": "markdown",
   "id": "486ff2d7",
   "metadata": {},
   "source": [
    "### 1.1"
   ]
  },
  {
   "cell_type": "code",
   "execution_count": 17,
   "id": "2239c257",
   "metadata": {},
   "outputs": [],
   "source": [
    "import pandas as pd\n",
    "\n",
    "df = pd.read_csv(\"Wage.csv\")\n",
    "df['jobclass'] = (df['jobclass'] == '2. Information').astype(int)"
   ]
  },
  {
   "cell_type": "markdown",
   "id": "d3525b1f",
   "metadata": {},
   "source": [
    "### 1.2"
   ]
  },
  {
   "cell_type": "code",
   "execution_count": 18,
   "id": "15959ccb",
   "metadata": {},
   "outputs": [],
   "source": [
    "import numpy as np\n",
    "\n",
    "df['test'] = np.random.choice([0, 1], size=len(df), p=[0.8, 0.2])"
   ]
  },
  {
   "cell_type": "markdown",
   "id": "680a1833",
   "metadata": {},
   "source": [
    "### 1.3\n",
    "\n",
    "The mapping of education to education_years is based on the typical number of years required to complete each education level in the U.S. education system:\n",
    "\n",
    "< HS Grad → 10 years\n",
    "\n",
    "This category represents individuals who did not complete high school.\n",
    "Assuming they left school around 10th grade, we assign 10 years.\n",
    "HS Grad → 12 years\n",
    "\n",
    "A high school diploma is generally earned after 12 years of schooling.\n",
    "Some College → 14 years\n",
    "\n",
    "Individuals in this category have completed some college but not a full degree.\n",
    "We assume they have completed about two additional years after high school, assigning 14 years.\n",
    "College Grad → 16 years\n",
    "\n",
    "A bachelor’s degree typically requires 16 years of education (12 years of school + 4 years of college).\n",
    "Advanced Degree → 18 years\n",
    "\n",
    "This category includes people with graduate degrees (Master’s, PhD, etc.).\n",
    "A master's degree typically requires an additional 2 years beyond a bachelor’s, so we assign 18 years.\n",
    "This mapping provides a reasonable numerical representation of education levels, making it useful for K-means clustering, which requires numerical input variables."
   ]
  },
  {
   "cell_type": "code",
   "execution_count": 20,
   "id": "5cff2065",
   "metadata": {},
   "outputs": [],
   "source": [
    "education_mapping = {\n",
    "    '1. < HS Grad': 10,\n",
    "    '2. HS Grad': 12,\n",
    "    '3. Some College': 14,\n",
    "    '4. College Grad': 16,\n",
    "    '5. Advanced Degree': 18\n",
    "}\n",
    "\n",
    "# Apply the mapping\n",
    "df['education_years'] = df['education'].map(education_mapping)"
   ]
  },
  {
   "cell_type": "markdown",
   "id": "232d7d54",
   "metadata": {},
   "source": [
    "### 1.4"
   ]
  },
  {
   "cell_type": "code",
   "execution_count": 22,
   "id": "4b51f7ca",
   "metadata": {},
   "outputs": [],
   "source": [
    "from sklearn.preprocessing import StandardScaler\n",
    "\n",
    "features_to_standardize = ['age', 'logwage', 'education_years']\n",
    "scaler = StandardScaler()\n",
    "df[['age_std', 'logwage_std', 'education_years_std']] = scaler.fit_transform(df[features_to_standardize])\n",
    "\n",
    "\n",
    "df_standardized = df[['jobclass', 'age_std', 'logwage_std', 'education_years_std']].copy()"
   ]
  },
  {
   "cell_type": "code",
   "execution_count": 23,
   "id": "d7737bdf",
   "metadata": {},
   "outputs": [
    {
     "data": {
      "text/html": [
       "<div>\n",
       "<style scoped>\n",
       "    .dataframe tbody tr th:only-of-type {\n",
       "        vertical-align: middle;\n",
       "    }\n",
       "\n",
       "    .dataframe tbody tr th {\n",
       "        vertical-align: top;\n",
       "    }\n",
       "\n",
       "    .dataframe thead th {\n",
       "        text-align: right;\n",
       "    }\n",
       "</style>\n",
       "<table border=\"1\" class=\"dataframe\">\n",
       "  <thead>\n",
       "    <tr style=\"text-align: right;\">\n",
       "      <th></th>\n",
       "      <th>jobclass</th>\n",
       "      <th>age_std</th>\n",
       "      <th>logwage_std</th>\n",
       "      <th>education_years_std</th>\n",
       "    </tr>\n",
       "  </thead>\n",
       "  <tbody>\n",
       "    <tr>\n",
       "      <th>0</th>\n",
       "      <td>0</td>\n",
       "      <td>-2.115567</td>\n",
       "      <td>-0.954926</td>\n",
       "      <td>-1.653756</td>\n",
       "    </tr>\n",
       "    <tr>\n",
       "      <th>1</th>\n",
       "      <td>1</td>\n",
       "      <td>-1.595658</td>\n",
       "      <td>-1.133464</td>\n",
       "      <td>0.814537</td>\n",
       "    </tr>\n",
       "    <tr>\n",
       "      <th>2</th>\n",
       "      <td>0</td>\n",
       "      <td>0.224023</td>\n",
       "      <td>0.628831</td>\n",
       "      <td>-0.008228</td>\n",
       "    </tr>\n",
       "    <tr>\n",
       "      <th>3</th>\n",
       "      <td>1</td>\n",
       "      <td>0.050720</td>\n",
       "      <td>1.101775</td>\n",
       "      <td>0.814537</td>\n",
       "    </tr>\n",
       "    <tr>\n",
       "      <th>4</th>\n",
       "      <td>1</td>\n",
       "      <td>0.657280</td>\n",
       "      <td>-0.954926</td>\n",
       "      <td>-0.830992</td>\n",
       "    </tr>\n",
       "  </tbody>\n",
       "</table>\n",
       "</div>"
      ],
      "text/plain": [
       "   jobclass   age_std  logwage_std  education_years_std\n",
       "0         0 -2.115567    -0.954926            -1.653756\n",
       "1         1 -1.595658    -1.133464             0.814537\n",
       "2         0  0.224023     0.628831            -0.008228\n",
       "3         1  0.050720     1.101775             0.814537\n",
       "4         1  0.657280    -0.954926            -0.830992"
      ]
     },
     "execution_count": 23,
     "metadata": {},
     "output_type": "execute_result"
    }
   ],
   "source": [
    "df_standardized.head()"
   ]
  },
  {
   "cell_type": "markdown",
   "id": "4e336fce",
   "metadata": {},
   "source": []
  }
 ],
 "metadata": {
  "kernelspec": {
   "display_name": "Python 3",
   "language": "python",
   "name": "python3"
  },
  "language_info": {
   "codemirror_mode": {
    "name": "ipython",
    "version": 3
   },
   "file_extension": ".py",
   "mimetype": "text/x-python",
   "name": "python",
   "nbconvert_exporter": "python",
   "pygments_lexer": "ipython3",
   "version": "3.9.13"
  }
 },
 "nbformat": 4,
 "nbformat_minor": 5
}
