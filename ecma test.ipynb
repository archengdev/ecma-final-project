{
 "cells": [
  {
   "cell_type": "code",
   "execution_count": 6,
   "id": "f30c223f",
   "metadata": {},
   "outputs": [],
   "source": [
    "from mliv.inference import Vanilla2SLS"
   ]
  },
  {
   "cell_type": "code",
   "execution_count": 8,
   "id": "edf067f4",
   "metadata": {},
   "outputs": [
    {
     "name": "stdout",
     "output_type": "stream",
     "text": [
      "   v1     v2  v3  v4  v5  v6  v7         v8        v9  v10  ...  v18  v19  \\\n",
      "0  40  40.50   1  11   0   0  13   8.955383  5.023558    1  ...    3    0   \n",
      "1  41  41.00   1  12   0   0  14   8.993365  5.061540    1  ...    1    0   \n",
      "2  41  41.50   1  12   0   0  14   9.310141  5.378315    1  ...    3    0   \n",
      "3  46  46.25   1  12   0   0  14   9.110465  5.178639    1  ...    4    0   \n",
      "4  46  46.00   1  16   0   0  18  10.310601  6.378776    1  ...    1    0   \n",
      "\n",
      "   v20  v21   v22  v23  v24  v25  v26   v27  \n",
      "0    1    1  10.0    5    0    0    0  1929  \n",
      "1    0    1  10.0    5    0    0    0  1929  \n",
      "2    0    1  10.0    5    0    0    0  1928  \n",
      "3    0    1  10.0    5    0    0    0  1923  \n",
      "4    0    1  10.0    5    0    0    1  1924  \n",
      "\n",
      "[5 rows x 27 columns]\n"
     ]
    }
   ],
   "source": [
    "import pandas as pd\n",
    "\n",
    "# Read the .dta file\n",
    "data = pd.read_stata(\"angirst.dta\")\n",
    "\n",
    "# Display the first few rows\n",
    "print(df.head())"
   ]
  },
  {
   "cell_type": "code",
   "execution_count": null,
   "id": "ae47b60d",
   "metadata": {},
   "outputs": [],
   "source": [
    "model = Vanilla2SLS()\n",
    "model.fit(data)\n",
    "ITE = model.predict(data.train)\n",
    "ATE,_ = model.ATE(data.train)"
   ]
  }
 ],
 "metadata": {
  "kernelspec": {
   "display_name": "Python 3",
   "language": "python",
   "name": "python3"
  },
  "language_info": {
   "codemirror_mode": {
    "name": "ipython",
    "version": 3
   },
   "file_extension": ".py",
   "mimetype": "text/x-python",
   "name": "python",
   "nbconvert_exporter": "python",
   "pygments_lexer": "ipython3",
   "version": "3.9.13"
  }
 },
 "nbformat": 4,
 "nbformat_minor": 5
}
